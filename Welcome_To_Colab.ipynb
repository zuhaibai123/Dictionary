{
  "cells": [
    {
      "cell_type": "markdown",
      "metadata": {
        "id": "view-in-github",
        "colab_type": "text"
      },
      "source": [
        "<a href=\"https://colab.research.google.com/github/zuhaibai123/Dictionary/blob/main/Welcome_To_Colab.ipynb\" target=\"_parent\"><img src=\"https://colab.research.google.com/assets/colab-badge.svg\" alt=\"Open In Colab\"/></a>"
      ]
    },
    {
      "cell_type": "code",
      "source": [
        "import openai\n",
        "\n",
        "openai.api_key =\"\"\n",
        "\n",
        "def dictionary(word):\n",
        "  messages=[\n",
        "      {\"role\" : \"system\" ,\"content\" : \"\"\"you are trained to analyze the sentiments of a text\n",
        "                                         if you are unaware of an answer say \"not sure \" . \"\"\"},\n",
        "      {\"role\" : \"user\" , \"content\" : f\"analyze the text and give your answer in positive or negative only.{word}\"}\n",
        "  ]\n",
        "  response=openai.ChatCompletion.create(\n",
        "      model=\"gpt-3.5-turbo\",\n",
        "      messages=messages,\n",
        "      n=1,\n",
        "      max_tokens=2,\n",
        "      stop=None,\n",
        "      temperature=0\n",
        "\n",
        "\n",
        "  )\n",
        "  response_text=response.choices[0].message.content.strip().lower()\n",
        "  return response_text\n",
        "\n",
        "\n",
        "word=\"good\"\n",
        "meaning=dictionary(word)\n",
        "print(f\"the meaning of {word} is :{meaning}\")"
      ],
      "metadata": {
        "id": "dMv-wKe-6r2L"
      },
      "execution_count": null,
      "outputs": []
    }
  ],
  "metadata": {
    "colab": {
      "name": "Welcome To Colab",
      "toc_visible": true,
      "provenance": [],
      "include_colab_link": true
    },
    "kernelspec": {
      "display_name": "Python 3",
      "name": "python3"
    }
  },
  "nbformat": 4,
  "nbformat_minor": 0
}